{
 "cells": [
  {
   "cell_type": "code",
   "execution_count": 1,
   "id": "566d010a-03d6-4914-903f-186f13d9ba55",
   "metadata": {},
   "outputs": [],
   "source": [
    "import tensorflow as tf"
   ]
  },
  {
   "cell_type": "code",
   "execution_count": 4,
   "id": "fe6dd4dc-cd3c-486f-915b-632a27a449e0",
   "metadata": {},
   "outputs": [],
   "source": [
    "model = tf.keras.models.load_model(r\"C:\\AgroLens\\soil-image-analysis\\saved_models\\1.keras\")"
   ]
  },
  {
   "cell_type": "code",
   "execution_count": 5,
   "id": "da165624-da46-4a47-aa68-ff7b75cda868",
   "metadata": {},
   "outputs": [
    {
     "name": "stdout",
     "output_type": "stream",
     "text": [
      "INFO:tensorflow:Assets written to: C:\\Users\\DELLLA~1\\AppData\\Local\\Temp\\tmphgeivpe_\\assets\n"
     ]
    },
    {
     "name": "stderr",
     "output_type": "stream",
     "text": [
      "INFO:tensorflow:Assets written to: C:\\Users\\DELLLA~1\\AppData\\Local\\Temp\\tmphgeivpe_\\assets\n"
     ]
    },
    {
     "name": "stdout",
     "output_type": "stream",
     "text": [
      "Saved artifact at 'C:\\Users\\DELLLA~1\\AppData\\Local\\Temp\\tmphgeivpe_'. The following endpoints are available:\n",
      "\n",
      "* Endpoint 'serve'\n",
      "  args_0 (POSITIONAL_ONLY): TensorSpec(shape=(32, 256, 256, 3), dtype=tf.float32, name='input_layer_8')\n",
      "Output Type:\n",
      "  TensorSpec(shape=(32, 4), dtype=tf.float32, name=None)\n",
      "Captures:\n",
      "  2110111898448: TensorSpec(shape=(), dtype=tf.resource, name=None)\n",
      "  2110111903440: TensorSpec(shape=(), dtype=tf.resource, name=None)\n",
      "  2110111902480: TensorSpec(shape=(), dtype=tf.resource, name=None)\n",
      "  2110111904400: TensorSpec(shape=(), dtype=tf.resource, name=None)\n",
      "  2110111903824: TensorSpec(shape=(), dtype=tf.resource, name=None)\n",
      "  2110111905168: TensorSpec(shape=(), dtype=tf.resource, name=None)\n",
      "  2110111903632: TensorSpec(shape=(), dtype=tf.resource, name=None)\n",
      "  2110111906128: TensorSpec(shape=(), dtype=tf.resource, name=None)\n",
      "  2110111905552: TensorSpec(shape=(), dtype=tf.resource, name=None)\n",
      "  2110111906896: TensorSpec(shape=(), dtype=tf.resource, name=None)\n",
      "  2110111906320: TensorSpec(shape=(), dtype=tf.resource, name=None)\n",
      "  2110111907472: TensorSpec(shape=(), dtype=tf.resource, name=None)\n",
      "  2110111907664: TensorSpec(shape=(), dtype=tf.resource, name=None)\n",
      "  2110111905360: TensorSpec(shape=(), dtype=tf.resource, name=None)\n",
      "  2110112957264: TensorSpec(shape=(), dtype=tf.resource, name=None)\n",
      "  2110112958800: TensorSpec(shape=(), dtype=tf.resource, name=None)\n"
     ]
    }
   ],
   "source": [
    "converter = tf.lite.TFLiteConverter.from_keras_model(model)\n",
    "tflite_model = converter.convert()"
   ]
  },
  {
   "cell_type": "code",
   "execution_count": 7,
   "id": "901e02ab-52e6-4275-9df4-ba720c4cfb80",
   "metadata": {},
   "outputs": [],
   "source": [
    "with open('model.tflite', 'wb') as f:\n",
    "    f.write(tflite_model)"
   ]
  },
  {
   "cell_type": "code",
   "execution_count": null,
   "id": "f632c4a5-2e58-4784-973c-c9dd6ec4d48b",
   "metadata": {},
   "outputs": [],
   "source": []
  }
 ],
 "metadata": {
  "kernelspec": {
   "display_name": "Python 3 (ipykernel)",
   "language": "python",
   "name": "python3"
  },
  "language_info": {
   "codemirror_mode": {
    "name": "ipython",
    "version": 3
   },
   "file_extension": ".py",
   "mimetype": "text/x-python",
   "name": "python",
   "nbconvert_exporter": "python",
   "pygments_lexer": "ipython3",
   "version": "3.11.9"
  }
 },
 "nbformat": 4,
 "nbformat_minor": 5
}
